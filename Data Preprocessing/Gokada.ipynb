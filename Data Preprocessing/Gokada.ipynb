{
 "cells": [
  {
   "cell_type": "code",
   "execution_count": null,
   "id": "e8565163",
   "metadata": {},
   "outputs": [],
   "source": [
    "!pip install osmnx"
   ]
  },
  {
   "cell_type": "code",
   "execution_count": null,
   "id": "025947eb",
   "metadata": {},
   "outputs": [],
   "source": [
    "import osmnx as ox\n",
    "import networkx as nx\n",
    "ox.config(log_console=True, use_cache=True)"
   ]
  },
  {
   "cell_type": "code",
   "execution_count": null,
   "id": "c2500f9e",
   "metadata": {},
   "outputs": [],
   "source": [
    "def plot_graph_route(origin=(6.508813001668548,3.37740316890347),destination=(6.650969799999999,3.3450307),place = 'Lagos, Nigeria'):\n",
    "  mode      = 'drive'       \n",
    "  optimizer = 'length'        \n",
    "\n",
    "\n",
    "  graph = ox.graph_from_place(place, network_type = mode)\n",
    "\n",
    "  orig_node = ox.get_nearest_node(graph, origin)\n",
    "  dest_node = ox.get_nearest_node(graph, destination)\n",
    "  shortest_route = nx.shortest_path(graph, orig_node, dest_node, weight=optimizer)\n",
    "\n",
    "  return shortest_route , graph"
   ]
  },
  {
   "cell_type": "code",
   "execution_count": null,
   "id": "871bdfab",
   "metadata": {},
   "outputs": [],
   "source": [
    "shortest_route, graph = plot_graph_route()"
   ]
  },
  {
   "cell_type": "code",
   "execution_count": null,
   "id": "195f0fa4",
   "metadata": {},
   "outputs": [],
   "source": [
    "shortest_route_map = ox.plot_route_folium(graph, shortest_route)\n",
    "shortest_route_map"
   ]
  },
  {
   "cell_type": "code",
   "execution_count": null,
   "id": "81aebe4a",
   "metadata": {},
   "outputs": [],
   "source": []
  }
 ],
 "metadata": {
  "kernelspec": {
   "display_name": "Python 3 (ipykernel)",
   "language": "python",
   "name": "python3"
  },
  "language_info": {
   "codemirror_mode": {
    "name": "ipython",
    "version": 3
   },
   "file_extension": ".py",
   "mimetype": "text/x-python",
   "name": "python",
   "nbconvert_exporter": "python",
   "pygments_lexer": "ipython3",
   "version": "3.9.7"
  }
 },
 "nbformat": 4,
 "nbformat_minor": 5
}
