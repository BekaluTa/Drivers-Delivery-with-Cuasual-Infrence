{
 "cells": [
  {
   "cell_type": "markdown",
   "id": "7980820a",
   "metadata": {},
   "source": [
    "## Importing Library and Loading Data"
   ]
  },
  {
   "cell_type": "code",
   "execution_count": 1,
   "id": "2c53ed9b",
   "metadata": {},
   "outputs": [],
   "source": [
    "import pandas as pd "
   ]
  },
  {
   "cell_type": "code",
   "execution_count": 4,
   "id": "0e0dd237",
   "metadata": {},
   "outputs": [],
   "source": [
    "data_order=pd.read_csv('D:/Tenx Batch 6/Week 9/nb.csv')\n",
    "df_driver=pd.read_csv('D:/Tenx Batch 6/Week 9/driver_locations_during_request.csv')"
   ]
  },
  {
   "cell_type": "markdown",
   "id": "ce3865ac",
   "metadata": {},
   "source": [
    "## Data Preprocessing\n",
    "### Clean Dataset - order dataset\n",
    "### dataset table"
   ]
  },
  {
   "cell_type": "code",
   "execution_count": 5,
   "id": "84935b98",
   "metadata": {},
   "outputs": [],
   "source": [
    "df_driver.drop(columns=['created_at','updated_at'],inplace=True)"
   ]
  },
  {
   "cell_type": "markdown",
   "id": "1603cd6c",
   "metadata": {},
   "source": [
    "## Rename dataset columns"
   ]
  },
  {
   "cell_type": "code",
   "execution_count": 6,
   "id": "a56f7e05",
   "metadata": {},
   "outputs": [],
   "source": [
    "df_order = pd.DataFrame()\n",
    "cols = ['trip_id','trip_origin','trip_destination','trip_start_time','trip_end_time']\n",
    "for i in range(len(cols)):\n",
    "  df_order[cols[i]] = data_order.iloc[:,i]"
   ]
  },
  {
   "cell_type": "markdown",
   "id": "9a29cf0f",
   "metadata": {},
   "source": [
    "## split the latitude and longtude and convert them to float"
   ]
  },
  {
   "cell_type": "code",
   "execution_count": 7,
   "id": "86bf4a7d",
   "metadata": {},
   "outputs": [],
   "source": [
    "origin = df_order[\"trip_origin\"].str.split(\",\", n = 1, expand = True)\n",
    "dest = df_order[\"trip_destination\"].str.split(\",\", n = 1, expand = True)"
   ]
  },
  {
   "cell_type": "code",
   "execution_count": 8,
   "id": "26c517ba",
   "metadata": {},
   "outputs": [],
   "source": [
    "df_order['origin_lat'] = origin[0]\n",
    "df_order['origin_lon'] = origin[1]\n",
    "df_order['dest_lat'] = dest[0]\n",
    "df_order['dest_lon'] = dest[1]"
   ]
  },
  {
   "cell_type": "code",
   "execution_count": 9,
   "id": "bad60949",
   "metadata": {},
   "outputs": [],
   "source": [
    "df_order.drop(columns=['trip_origin','trip_destination'],inplace=True)"
   ]
  },
  {
   "cell_type": "code",
   "execution_count": 10,
   "id": "57bde16d",
   "metadata": {},
   "outputs": [
    {
     "name": "stdout",
     "output_type": "stream",
     "text": [
      "<class 'pandas.core.frame.DataFrame'>\n",
      "RangeIndex: 536020 entries, 0 to 536019\n",
      "Data columns (total 7 columns):\n",
      " #   Column           Non-Null Count   Dtype \n",
      "---  ------           --------------   ----- \n",
      " 0   trip_id          536020 non-null  int64 \n",
      " 1   trip_start_time  534369 non-null  object\n",
      " 2   trip_end_time    536019 non-null  object\n",
      " 3   origin_lat       536020 non-null  object\n",
      " 4   origin_lon       536020 non-null  object\n",
      " 5   dest_lat         536020 non-null  object\n",
      " 6   dest_lon         536020 non-null  object\n",
      "dtypes: int64(1), object(6)\n",
      "memory usage: 28.6+ MB\n"
     ]
    }
   ],
   "source": [
    "df_order.info()"
   ]
  },
  {
   "cell_type": "code",
   "execution_count": 11,
   "id": "af9644b1",
   "metadata": {},
   "outputs": [
    {
     "data": {
      "text/plain": [
       "trip_id               0\n",
       "trip_start_time    1651\n",
       "trip_end_time         1\n",
       "origin_lat            0\n",
       "origin_lon            0\n",
       "dest_lat              0\n",
       "dest_lon              0\n",
       "dtype: int64"
      ]
     },
     "execution_count": 11,
     "metadata": {},
     "output_type": "execute_result"
    }
   ],
   "source": [
    "df_order.isnull().sum()"
   ]
  },
  {
   "cell_type": "code",
   "execution_count": 12,
   "id": "1170f333",
   "metadata": {},
   "outputs": [],
   "source": [
    "df_order.dest_lat=df_order.dest_lat.astype(float)\n",
    "df_order.dest_lon=df_order.dest_lon.astype(float)\n",
    "df_order.origin_lat=df_order.origin_lat.astype(float)\n",
    "df_order.origin_lon=df_order.origin_lon.astype(float)"
   ]
  },
  {
   "cell_type": "markdown",
   "id": "8c2dc0f6",
   "metadata": {},
   "source": [
    "## compute absolute distance"
   ]
  },
  {
   "cell_type": "code",
   "execution_count": 14,
   "id": "d25c10ee",
   "metadata": {},
   "outputs": [
    {
     "name": "stdout",
     "output_type": "stream",
     "text": [
      "Collecting geopy\n",
      "  Downloading geopy-2.2.0-py3-none-any.whl (118 kB)\n",
      "Collecting geographiclib<2,>=1.49\n",
      "  Downloading geographiclib-1.52-py3-none-any.whl (38 kB)\n",
      "Installing collected packages: geographiclib, geopy\n",
      "Successfully installed geographiclib-1.52 geopy-2.2.0\n",
      "Note: you may need to restart the kernel to use updated packages.\n"
     ]
    }
   ],
   "source": [
    "pip install geopy"
   ]
  },
  {
   "cell_type": "code",
   "execution_count": 15,
   "id": "86880b7c",
   "metadata": {
    "scrolled": true
   },
   "outputs": [],
   "source": [
    "from geopy.distance import great_circle as GRC"
   ]
  },
  {
   "cell_type": "code",
   "execution_count": 16,
   "id": "7b156bfa",
   "metadata": {},
   "outputs": [],
   "source": [
    "df_order['distance'] = df_order.apply(lambda row: GRC((row['origin_lat'], row['origin_lon']), (row['dest_lat'], row['dest_lon'])).m, axis=1)"
   ]
  },
  {
   "cell_type": "code",
   "execution_count": 17,
   "id": "96cdda01",
   "metadata": {},
   "outputs": [
    {
     "data": {
      "text/html": [
       "<div>\n",
       "<style scoped>\n",
       "    .dataframe tbody tr th:only-of-type {\n",
       "        vertical-align: middle;\n",
       "    }\n",
       "\n",
       "    .dataframe tbody tr th {\n",
       "        vertical-align: top;\n",
       "    }\n",
       "\n",
       "    .dataframe thead th {\n",
       "        text-align: right;\n",
       "    }\n",
       "</style>\n",
       "<table border=\"1\" class=\"dataframe\">\n",
       "  <thead>\n",
       "    <tr style=\"text-align: right;\">\n",
       "      <th></th>\n",
       "      <th>trip_id</th>\n",
       "      <th>trip_start_time</th>\n",
       "      <th>trip_end_time</th>\n",
       "      <th>origin_lat</th>\n",
       "      <th>origin_lon</th>\n",
       "      <th>dest_lat</th>\n",
       "      <th>dest_lon</th>\n",
       "      <th>distance</th>\n",
       "    </tr>\n",
       "  </thead>\n",
       "  <tbody>\n",
       "    <tr>\n",
       "      <th>436798</th>\n",
       "      <td>1359328</td>\n",
       "      <td>2021-11-26 17:11:44</td>\n",
       "      <td>2021-11-26 17:16:30</td>\n",
       "      <td>6.600663</td>\n",
       "      <td>3.311015</td>\n",
       "      <td>6.600663</td>\n",
       "      <td>3.311015</td>\n",
       "      <td>0.0</td>\n",
       "    </tr>\n",
       "    <tr>\n",
       "      <th>437199</th>\n",
       "      <td>1360363</td>\n",
       "      <td>2021-11-26 18:38:59</td>\n",
       "      <td>2021-11-26 18:39:40</td>\n",
       "      <td>6.615078</td>\n",
       "      <td>3.346345</td>\n",
       "      <td>6.615078</td>\n",
       "      <td>3.346345</td>\n",
       "      <td>0.0</td>\n",
       "    </tr>\n",
       "    <tr>\n",
       "      <th>437277</th>\n",
       "      <td>1360540</td>\n",
       "      <td>2021-11-26 18:59:10</td>\n",
       "      <td>2021-11-26 19:00:02</td>\n",
       "      <td>6.428615</td>\n",
       "      <td>3.444754</td>\n",
       "      <td>6.428615</td>\n",
       "      <td>3.444754</td>\n",
       "      <td>0.0</td>\n",
       "    </tr>\n",
       "    <tr>\n",
       "      <th>437285</th>\n",
       "      <td>1360557</td>\n",
       "      <td>2021-11-26 19:01:51</td>\n",
       "      <td>2021-11-26 19:02:35</td>\n",
       "      <td>6.428615</td>\n",
       "      <td>3.444754</td>\n",
       "      <td>6.428615</td>\n",
       "      <td>3.444754</td>\n",
       "      <td>0.0</td>\n",
       "    </tr>\n",
       "    <tr>\n",
       "      <th>437370</th>\n",
       "      <td>1360720</td>\n",
       "      <td>2021-11-26 19:29:24</td>\n",
       "      <td>2021-11-26 19:29:59</td>\n",
       "      <td>6.453925</td>\n",
       "      <td>3.482031</td>\n",
       "      <td>6.453925</td>\n",
       "      <td>3.482031</td>\n",
       "      <td>0.0</td>\n",
       "    </tr>\n",
       "    <tr>\n",
       "      <th>...</th>\n",
       "      <td>...</td>\n",
       "      <td>...</td>\n",
       "      <td>...</td>\n",
       "      <td>...</td>\n",
       "      <td>...</td>\n",
       "      <td>...</td>\n",
       "      <td>...</td>\n",
       "      <td>...</td>\n",
       "    </tr>\n",
       "    <tr>\n",
       "      <th>526165</th>\n",
       "      <td>1612730</td>\n",
       "      <td>2021-12-26 14:52:02</td>\n",
       "      <td>2021-12-26 14:53:57</td>\n",
       "      <td>6.674690</td>\n",
       "      <td>3.480629</td>\n",
       "      <td>6.674690</td>\n",
       "      <td>3.480629</td>\n",
       "      <td>0.0</td>\n",
       "    </tr>\n",
       "    <tr>\n",
       "      <th>526178</th>\n",
       "      <td>1612774</td>\n",
       "      <td>2021-12-26 15:03:42</td>\n",
       "      <td>2021-12-26 15:06:36</td>\n",
       "      <td>6.508763</td>\n",
       "      <td>3.579862</td>\n",
       "      <td>6.508763</td>\n",
       "      <td>3.579862</td>\n",
       "      <td>0.0</td>\n",
       "    </tr>\n",
       "    <tr>\n",
       "      <th>526183</th>\n",
       "      <td>1612796</td>\n",
       "      <td>2021-12-26 15:07:58</td>\n",
       "      <td>2021-12-26 15:10:28</td>\n",
       "      <td>6.508763</td>\n",
       "      <td>3.579862</td>\n",
       "      <td>6.508763</td>\n",
       "      <td>3.579862</td>\n",
       "      <td>0.0</td>\n",
       "    </tr>\n",
       "    <tr>\n",
       "      <th>526250</th>\n",
       "      <td>1612980</td>\n",
       "      <td>2021-12-26 15:48:54</td>\n",
       "      <td>2021-12-26 15:49:47</td>\n",
       "      <td>6.508763</td>\n",
       "      <td>3.579862</td>\n",
       "      <td>6.508763</td>\n",
       "      <td>3.579862</td>\n",
       "      <td>0.0</td>\n",
       "    </tr>\n",
       "    <tr>\n",
       "      <th>530492</th>\n",
       "      <td>1623854</td>\n",
       "      <td>2021-12-28 17:14:50</td>\n",
       "      <td>2021-12-28 17:41:57</td>\n",
       "      <td>6.620895</td>\n",
       "      <td>3.329562</td>\n",
       "      <td>6.620895</td>\n",
       "      <td>3.329562</td>\n",
       "      <td>0.0</td>\n",
       "    </tr>\n",
       "  </tbody>\n",
       "</table>\n",
       "<p>129 rows × 8 columns</p>\n",
       "</div>"
      ],
      "text/plain": [
       "        trip_id      trip_start_time        trip_end_time  origin_lat  \\\n",
       "436798  1359328  2021-11-26 17:11:44  2021-11-26 17:16:30    6.600663   \n",
       "437199  1360363  2021-11-26 18:38:59  2021-11-26 18:39:40    6.615078   \n",
       "437277  1360540  2021-11-26 18:59:10  2021-11-26 19:00:02    6.428615   \n",
       "437285  1360557  2021-11-26 19:01:51  2021-11-26 19:02:35    6.428615   \n",
       "437370  1360720  2021-11-26 19:29:24  2021-11-26 19:29:59    6.453925   \n",
       "...         ...                  ...                  ...         ...   \n",
       "526165  1612730  2021-12-26 14:52:02  2021-12-26 14:53:57    6.674690   \n",
       "526178  1612774  2021-12-26 15:03:42  2021-12-26 15:06:36    6.508763   \n",
       "526183  1612796  2021-12-26 15:07:58  2021-12-26 15:10:28    6.508763   \n",
       "526250  1612980  2021-12-26 15:48:54  2021-12-26 15:49:47    6.508763   \n",
       "530492  1623854  2021-12-28 17:14:50  2021-12-28 17:41:57    6.620895   \n",
       "\n",
       "        origin_lon  dest_lat  dest_lon  distance  \n",
       "436798    3.311015  6.600663  3.311015       0.0  \n",
       "437199    3.346345  6.615078  3.346345       0.0  \n",
       "437277    3.444754  6.428615  3.444754       0.0  \n",
       "437285    3.444754  6.428615  3.444754       0.0  \n",
       "437370    3.482031  6.453925  3.482031       0.0  \n",
       "...            ...       ...       ...       ...  \n",
       "526165    3.480629  6.674690  3.480629       0.0  \n",
       "526178    3.579862  6.508763  3.579862       0.0  \n",
       "526183    3.579862  6.508763  3.579862       0.0  \n",
       "526250    3.579862  6.508763  3.579862       0.0  \n",
       "530492    3.329562  6.620895  3.329562       0.0  \n",
       "\n",
       "[129 rows x 8 columns]"
      ]
     },
     "execution_count": 17,
     "metadata": {},
     "output_type": "execute_result"
    }
   ],
   "source": [
    "df_order[df_order.distance==0]"
   ]
  },
  {
   "cell_type": "code",
   "execution_count": 18,
   "id": "ae7eb40c",
   "metadata": {},
   "outputs": [
    {
     "data": {
      "text/html": [
       "<div>\n",
       "<style scoped>\n",
       "    .dataframe tbody tr th:only-of-type {\n",
       "        vertical-align: middle;\n",
       "    }\n",
       "\n",
       "    .dataframe tbody tr th {\n",
       "        vertical-align: top;\n",
       "    }\n",
       "\n",
       "    .dataframe thead th {\n",
       "        text-align: right;\n",
       "    }\n",
       "</style>\n",
       "<table border=\"1\" class=\"dataframe\">\n",
       "  <thead>\n",
       "    <tr style=\"text-align: right;\">\n",
       "      <th></th>\n",
       "      <th>trip_id</th>\n",
       "      <th>trip_start_time</th>\n",
       "      <th>trip_end_time</th>\n",
       "      <th>origin_lat</th>\n",
       "      <th>origin_lon</th>\n",
       "      <th>dest_lat</th>\n",
       "      <th>dest_lon</th>\n",
       "      <th>distance</th>\n",
       "    </tr>\n",
       "  </thead>\n",
       "  <tbody>\n",
       "    <tr>\n",
       "      <th>0</th>\n",
       "      <td>391996</td>\n",
       "      <td>2021-07-01 07:28:04</td>\n",
       "      <td>2021-07-01 07:29:37</td>\n",
       "      <td>6.508813</td>\n",
       "      <td>3.377403</td>\n",
       "      <td>6.650970</td>\n",
       "      <td>3.345031</td>\n",
       "      <td>16206.572264</td>\n",
       "    </tr>\n",
       "    <tr>\n",
       "      <th>1</th>\n",
       "      <td>391997</td>\n",
       "      <td>2021-07-01 06:38:04</td>\n",
       "      <td>2021-07-01 07:07:28</td>\n",
       "      <td>6.431671</td>\n",
       "      <td>3.455538</td>\n",
       "      <td>6.428081</td>\n",
       "      <td>3.472189</td>\n",
       "      <td>1882.677988</td>\n",
       "    </tr>\n",
       "    <tr>\n",
       "      <th>2</th>\n",
       "      <td>391998</td>\n",
       "      <td>2021-07-01 06:21:02</td>\n",
       "      <td>2021-07-01 07:02:23</td>\n",
       "      <td>6.631679</td>\n",
       "      <td>3.338898</td>\n",
       "      <td>6.508324</td>\n",
       "      <td>3.359040</td>\n",
       "      <td>13895.792462</td>\n",
       "    </tr>\n",
       "    <tr>\n",
       "      <th>3</th>\n",
       "      <td>391999</td>\n",
       "      <td>2021-07-01 07:16:07</td>\n",
       "      <td>2021-07-01 07:29:42</td>\n",
       "      <td>6.572757</td>\n",
       "      <td>3.367708</td>\n",
       "      <td>6.584881</td>\n",
       "      <td>3.361407</td>\n",
       "      <td>1517.188204</td>\n",
       "    </tr>\n",
       "    <tr>\n",
       "      <th>4</th>\n",
       "      <td>392001</td>\n",
       "      <td>2021-07-01 09:30:59</td>\n",
       "      <td>2021-07-01 09:34:36</td>\n",
       "      <td>6.601042</td>\n",
       "      <td>3.276634</td>\n",
       "      <td>6.450107</td>\n",
       "      <td>3.391615</td>\n",
       "      <td>21048.291786</td>\n",
       "    </tr>\n",
       "    <tr>\n",
       "      <th>...</th>\n",
       "      <td>...</td>\n",
       "      <td>...</td>\n",
       "      <td>...</td>\n",
       "      <td>...</td>\n",
       "      <td>...</td>\n",
       "      <td>...</td>\n",
       "      <td>...</td>\n",
       "      <td>...</td>\n",
       "    </tr>\n",
       "    <tr>\n",
       "      <th>536015</th>\n",
       "      <td>1637696</td>\n",
       "      <td>2021-12-30 20:35:06</td>\n",
       "      <td>2021-12-30 21:02:59</td>\n",
       "      <td>6.448218</td>\n",
       "      <td>3.477208</td>\n",
       "      <td>6.437787</td>\n",
       "      <td>3.481670</td>\n",
       "      <td>1260.349833</td>\n",
       "    </tr>\n",
       "    <tr>\n",
       "      <th>536016</th>\n",
       "      <td>1637702</td>\n",
       "      <td>2021-12-30 20:48:13</td>\n",
       "      <td>2021-12-30 21:43:49</td>\n",
       "      <td>6.442321</td>\n",
       "      <td>3.473687</td>\n",
       "      <td>6.436589</td>\n",
       "      <td>3.555974</td>\n",
       "      <td>9114.493804</td>\n",
       "    </tr>\n",
       "    <tr>\n",
       "      <th>536017</th>\n",
       "      <td>1637704</td>\n",
       "      <td>2021-12-30 20:51:45</td>\n",
       "      <td>2021-12-30 21:41:32</td>\n",
       "      <td>6.428198</td>\n",
       "      <td>3.492248</td>\n",
       "      <td>6.448089</td>\n",
       "      <td>3.477575</td>\n",
       "      <td>2742.312157</td>\n",
       "    </tr>\n",
       "    <tr>\n",
       "      <th>536018</th>\n",
       "      <td>1637705</td>\n",
       "      <td>2021-12-30 20:48:50</td>\n",
       "      <td>2021-12-30 21:08:28</td>\n",
       "      <td>6.586930</td>\n",
       "      <td>3.363297</td>\n",
       "      <td>6.637907</td>\n",
       "      <td>3.333951</td>\n",
       "      <td>6529.718841</td>\n",
       "    </tr>\n",
       "    <tr>\n",
       "      <th>536019</th>\n",
       "      <td>1637709</td>\n",
       "      <td>2021-12-30 20:55:38</td>\n",
       "      <td>2021-12-30 22:25:00</td>\n",
       "      <td>6.647210</td>\n",
       "      <td>3.485149</td>\n",
       "      <td>6.454915</td>\n",
       "      <td>3.555840</td>\n",
       "      <td>22763.636281</td>\n",
       "    </tr>\n",
       "  </tbody>\n",
       "</table>\n",
       "<p>536020 rows × 8 columns</p>\n",
       "</div>"
      ],
      "text/plain": [
       "        trip_id      trip_start_time        trip_end_time  origin_lat  \\\n",
       "0        391996  2021-07-01 07:28:04  2021-07-01 07:29:37    6.508813   \n",
       "1        391997  2021-07-01 06:38:04  2021-07-01 07:07:28    6.431671   \n",
       "2        391998  2021-07-01 06:21:02  2021-07-01 07:02:23    6.631679   \n",
       "3        391999  2021-07-01 07:16:07  2021-07-01 07:29:42    6.572757   \n",
       "4        392001  2021-07-01 09:30:59  2021-07-01 09:34:36    6.601042   \n",
       "...         ...                  ...                  ...         ...   \n",
       "536015  1637696  2021-12-30 20:35:06  2021-12-30 21:02:59    6.448218   \n",
       "536016  1637702  2021-12-30 20:48:13  2021-12-30 21:43:49    6.442321   \n",
       "536017  1637704  2021-12-30 20:51:45  2021-12-30 21:41:32    6.428198   \n",
       "536018  1637705  2021-12-30 20:48:50  2021-12-30 21:08:28    6.586930   \n",
       "536019  1637709  2021-12-30 20:55:38  2021-12-30 22:25:00    6.647210   \n",
       "\n",
       "        origin_lon  dest_lat  dest_lon      distance  \n",
       "0         3.377403  6.650970  3.345031  16206.572264  \n",
       "1         3.455538  6.428081  3.472189   1882.677988  \n",
       "2         3.338898  6.508324  3.359040  13895.792462  \n",
       "3         3.367708  6.584881  3.361407   1517.188204  \n",
       "4         3.276634  6.450107  3.391615  21048.291786  \n",
       "...            ...       ...       ...           ...  \n",
       "536015    3.477208  6.437787  3.481670   1260.349833  \n",
       "536016    3.473687  6.436589  3.555974   9114.493804  \n",
       "536017    3.492248  6.448089  3.477575   2742.312157  \n",
       "536018    3.363297  6.637907  3.333951   6529.718841  \n",
       "536019    3.485149  6.454915  3.555840  22763.636281  \n",
       "\n",
       "[536020 rows x 8 columns]"
      ]
     },
     "execution_count": 18,
     "metadata": {},
     "output_type": "execute_result"
    }
   ],
   "source": [
    "df_order"
   ]
  },
  {
   "cell_type": "markdown",
   "id": "a6fc4780",
   "metadata": {},
   "source": [
    "## trip start and end time"
   ]
  },
  {
   "cell_type": "code",
   "execution_count": null,
   "id": "aad99420",
   "metadata": {},
   "outputs": [],
   "source": []
  }
 ],
 "metadata": {
  "kernelspec": {
   "display_name": "Python 3 (ipykernel)",
   "language": "python",
   "name": "python3"
  },
  "language_info": {
   "codemirror_mode": {
    "name": "ipython",
    "version": 3
   },
   "file_extension": ".py",
   "mimetype": "text/x-python",
   "name": "python",
   "nbconvert_exporter": "python",
   "pygments_lexer": "ipython3",
   "version": "3.9.7"
  }
 },
 "nbformat": 4,
 "nbformat_minor": 5
}
