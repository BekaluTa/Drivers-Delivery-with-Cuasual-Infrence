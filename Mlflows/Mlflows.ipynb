{
 "cells": [
  {
   "cell_type": "markdown",
   "id": "5c3335d2",
   "metadata": {},
   "source": [
    "## Importing Library and Loading Data"
   ]
  },
  {
   "cell_type": "code",
   "execution_count": 1,
   "id": "33712a89",
   "metadata": {},
   "outputs": [],
   "source": [
    "import pandas as pd "
   ]
  },
  {
   "cell_type": "code",
   "execution_count": 4,
   "id": "3f458340",
   "metadata": {},
   "outputs": [],
   "source": [
    "data_order=pd.read_csv('D:/Tenx Batch 6/Week 9/nb.csv')\n",
    "df_driver=pd.read_csv('D:/Tenx Batch 6/Week 9/driver_locations_during_request.csv')"
   ]
  },
  {
   "cell_type": "markdown",
   "id": "0ca4744a",
   "metadata": {},
   "source": [
    "## Data Preprocessing\n",
    "### Clean Dataset - order dataset\n",
    "### dataset table"
   ]
  },
  {
   "cell_type": "code",
   "execution_count": null,
   "id": "15ce3dbd",
   "metadata": {},
   "outputs": [],
   "source": []
  }
 ],
 "metadata": {
  "kernelspec": {
   "display_name": "Python 3 (ipykernel)",
   "language": "python",
   "name": "python3"
  },
  "language_info": {
   "codemirror_mode": {
    "name": "ipython",
    "version": 3
   },
   "file_extension": ".py",
   "mimetype": "text/x-python",
   "name": "python",
   "nbconvert_exporter": "python",
   "pygments_lexer": "ipython3",
   "version": "3.9.7"
  }
 },
 "nbformat": 4,
 "nbformat_minor": 5
}
