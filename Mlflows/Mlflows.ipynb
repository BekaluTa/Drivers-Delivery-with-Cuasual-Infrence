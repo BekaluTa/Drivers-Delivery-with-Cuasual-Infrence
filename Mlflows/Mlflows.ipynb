{
 "cells": [
  {
   "cell_type": "markdown",
   "id": "c53d988d",
   "metadata": {},
   "source": [
    "## Importing Library and Loading Data"
   ]
  },
  {
   "cell_type": "code",
   "execution_count": 1,
   "id": "cb25a432",
   "metadata": {},
   "outputs": [],
   "source": [
    "import pandas as pd "
   ]
  },
  {
   "cell_type": "code",
   "execution_count": 4,
   "id": "2c45ca03",
   "metadata": {},
   "outputs": [],
   "source": [
    "data_order=pd.read_csv('D:/Tenx Batch 6/Week 9/nb.csv')\n",
    "df_driver=pd.read_csv('D:/Tenx Batch 6/Week 9/driver_locations_during_request.csv')"
   ]
  },
  {
   "cell_type": "markdown",
   "id": "45288afd",
   "metadata": {},
   "source": [
    "## Data Preprocessing\n",
    "### Clean Dataset - order dataset\n",
    "### dataset table"
   ]
  },
  {
   "cell_type": "code",
   "execution_count": 5,
   "id": "5f08a407",
   "metadata": {},
   "outputs": [],
   "source": [
    "df_driver.drop(columns=['created_at','updated_at'],inplace=True)"
   ]
  },
  {
   "cell_type": "markdown",
   "id": "b9db6476",
   "metadata": {},
   "source": [
    "## Rename dataset columns"
   ]
  },
  {
   "cell_type": "code",
   "execution_count": 6,
   "id": "7e5754e7",
   "metadata": {},
   "outputs": [],
   "source": [
    "df_order = pd.DataFrame()\n",
    "cols = ['trip_id','trip_origin','trip_destination','trip_start_time','trip_end_time']\n",
    "for i in range(len(cols)):\n",
    "  df_order[cols[i]] = data_order.iloc[:,i]"
   ]
  },
  {
   "cell_type": "markdown",
   "id": "ff96add7",
   "metadata": {},
   "source": [
    "## split the latitude and longtude and convert them to float"
   ]
  },
  {
   "cell_type": "code",
   "execution_count": null,
   "id": "dd9442eb",
   "metadata": {},
   "outputs": [],
   "source": [
    "origin = df_order[\"trip_origin\"].str.split(\",\", n = 1, expand = True)\n",
    "dest = df_order[\"trip_destination\"].str.split(\",\", n = 1, expand = True)"
   ]
  },
  {
   "cell_type": "code",
   "execution_count": null,
   "id": "04968f8d",
   "metadata": {},
   "outputs": [],
   "source": []
  }
 ],
 "metadata": {
  "kernelspec": {
   "display_name": "Python 3 (ipykernel)",
   "language": "python",
   "name": "python3"
  },
  "language_info": {
   "codemirror_mode": {
    "name": "ipython",
    "version": 3
   },
   "file_extension": ".py",
   "mimetype": "text/x-python",
   "name": "python",
   "nbconvert_exporter": "python",
   "pygments_lexer": "ipython3",
   "version": "3.9.7"
  }
 },
 "nbformat": 4,
 "nbformat_minor": 5
}
