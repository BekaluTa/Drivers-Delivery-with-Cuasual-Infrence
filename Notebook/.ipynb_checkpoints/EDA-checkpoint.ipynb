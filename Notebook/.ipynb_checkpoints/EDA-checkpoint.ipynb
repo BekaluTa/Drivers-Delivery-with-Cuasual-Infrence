{
 "cells": [
  {
   "cell_type": "markdown",
   "id": "8621ca78",
   "metadata": {},
   "source": [
    "# Importing Libraries"
   ]
  },
  {
   "cell_type": "code",
   "execution_count": 132,
   "id": "48c02caa",
   "metadata": {},
   "outputs": [],
   "source": [
    "import pandas as pd\n",
    "import numpy as np\n",
    "import seaborn as sns\n",
    "import matplotlib.pyplot as plt\n",
    "sns.set_style('white')\n",
    "import warnings\n",
    "warnings.filterwarnings('ignore')"
   ]
  },
  {
   "cell_type": "markdown",
   "id": "5b5b568b",
   "metadata": {},
   "source": [
    "# Loading Data to DF Frame for nb Table"
   ]
  },
  {
   "cell_type": "code",
   "execution_count": 133,
   "id": "df02ff7e",
   "metadata": {},
   "outputs": [
    {
     "data": {
      "text/html": [
       "<div>\n",
       "<style scoped>\n",
       "    .dataframe tbody tr th:only-of-type {\n",
       "        vertical-align: middle;\n",
       "    }\n",
       "\n",
       "    .dataframe tbody tr th {\n",
       "        vertical-align: top;\n",
       "    }\n",
       "\n",
       "    .dataframe thead th {\n",
       "        text-align: right;\n",
       "    }\n",
       "</style>\n",
       "<table border=\"1\" class=\"dataframe\">\n",
       "  <thead>\n",
       "    <tr style=\"text-align: right;\">\n",
       "      <th></th>\n",
       "      <th>Trip ID</th>\n",
       "      <th>Trip Origin</th>\n",
       "      <th>Trip Destination</th>\n",
       "      <th>Trip Start Time</th>\n",
       "      <th>Trip End Time</th>\n",
       "    </tr>\n",
       "  </thead>\n",
       "  <tbody>\n",
       "    <tr>\n",
       "      <th>0</th>\n",
       "      <td>391996</td>\n",
       "      <td>6.508813001668548,3.37740316890347</td>\n",
       "      <td>6.650969799999999,3.3450307</td>\n",
       "      <td>2021-07-01 07:28:04</td>\n",
       "      <td>2021-07-01 07:29:37</td>\n",
       "    </tr>\n",
       "    <tr>\n",
       "      <th>1</th>\n",
       "      <td>391997</td>\n",
       "      <td>6.4316714,3.4555375</td>\n",
       "      <td>6.4280814653326,3.4721885847586</td>\n",
       "      <td>2021-07-01 06:38:04</td>\n",
       "      <td>2021-07-01 07:07:28</td>\n",
       "    </tr>\n",
       "    <tr>\n",
       "      <th>2</th>\n",
       "      <td>391998</td>\n",
       "      <td>6.631679399999999,3.3388976</td>\n",
       "      <td>6.508324099999999,3.3590397</td>\n",
       "      <td>2021-07-01 06:21:02</td>\n",
       "      <td>2021-07-01 07:02:23</td>\n",
       "    </tr>\n",
       "    <tr>\n",
       "      <th>3</th>\n",
       "      <td>391999</td>\n",
       "      <td>6.572757200000001,3.3677082</td>\n",
       "      <td>6.584881099999999,3.3614073</td>\n",
       "      <td>2021-07-01 07:16:07</td>\n",
       "      <td>2021-07-01 07:29:42</td>\n",
       "    </tr>\n",
       "    <tr>\n",
       "      <th>4</th>\n",
       "      <td>392001</td>\n",
       "      <td>6.6010417,3.2766339</td>\n",
       "      <td>6.4501069,3.3916154</td>\n",
       "      <td>2021-07-01 09:30:59</td>\n",
       "      <td>2021-07-01 09:34:36</td>\n",
       "    </tr>\n",
       "  </tbody>\n",
       "</table>\n",
       "</div>"
      ],
      "text/plain": [
       "   Trip ID                         Trip Origin  \\\n",
       "0   391996  6.508813001668548,3.37740316890347   \n",
       "1   391997                 6.4316714,3.4555375   \n",
       "2   391998         6.631679399999999,3.3388976   \n",
       "3   391999         6.572757200000001,3.3677082   \n",
       "4   392001                 6.6010417,3.2766339   \n",
       "\n",
       "                  Trip Destination      Trip Start Time        Trip End Time  \n",
       "0      6.650969799999999,3.3450307  2021-07-01 07:28:04  2021-07-01 07:29:37  \n",
       "1  6.4280814653326,3.4721885847586  2021-07-01 06:38:04  2021-07-01 07:07:28  \n",
       "2      6.508324099999999,3.3590397  2021-07-01 06:21:02  2021-07-01 07:02:23  \n",
       "3      6.584881099999999,3.3614073  2021-07-01 07:16:07  2021-07-01 07:29:42  \n",
       "4              6.4501069,3.3916154  2021-07-01 09:30:59  2021-07-01 09:34:36  "
      ]
     },
     "execution_count": 133,
     "metadata": {},
     "output_type": "execute_result"
    }
   ],
   "source": [
    "Data=pd.read_csv('D:/Tenx Batch 6/Week 9/nb.csv')\n",
    "Data.head()"
   ]
  },
  {
   "cell_type": "markdown",
   "id": "a2fa36fc",
   "metadata": {},
   "source": [
    "# Loading to Data_location variable for Driver information"
   ]
  },
  {
   "cell_type": "code",
   "execution_count": 134,
   "id": "d78b1194",
   "metadata": {
    "scrolled": true
   },
   "outputs": [
    {
     "data": {
      "text/html": [
       "<div>\n",
       "<style scoped>\n",
       "    .dataframe tbody tr th:only-of-type {\n",
       "        vertical-align: middle;\n",
       "    }\n",
       "\n",
       "    .dataframe tbody tr th {\n",
       "        vertical-align: top;\n",
       "    }\n",
       "\n",
       "    .dataframe thead th {\n",
       "        text-align: right;\n",
       "    }\n",
       "</style>\n",
       "<table border=\"1\" class=\"dataframe\">\n",
       "  <thead>\n",
       "    <tr style=\"text-align: right;\">\n",
       "      <th></th>\n",
       "      <th>id</th>\n",
       "      <th>order_id</th>\n",
       "      <th>driver_id</th>\n",
       "      <th>driver_action</th>\n",
       "      <th>lat</th>\n",
       "      <th>lng</th>\n",
       "      <th>created_at</th>\n",
       "      <th>updated_at</th>\n",
       "    </tr>\n",
       "  </thead>\n",
       "  <tbody>\n",
       "    <tr>\n",
       "      <th>0</th>\n",
       "      <td>1</td>\n",
       "      <td>392001</td>\n",
       "      <td>243828</td>\n",
       "      <td>accepted</td>\n",
       "      <td>6.602207</td>\n",
       "      <td>3.270465</td>\n",
       "      <td>NaN</td>\n",
       "      <td>NaN</td>\n",
       "    </tr>\n",
       "    <tr>\n",
       "      <th>1</th>\n",
       "      <td>2</td>\n",
       "      <td>392001</td>\n",
       "      <td>243588</td>\n",
       "      <td>rejected</td>\n",
       "      <td>6.592097</td>\n",
       "      <td>3.287445</td>\n",
       "      <td>NaN</td>\n",
       "      <td>NaN</td>\n",
       "    </tr>\n",
       "    <tr>\n",
       "      <th>2</th>\n",
       "      <td>3</td>\n",
       "      <td>392001</td>\n",
       "      <td>243830</td>\n",
       "      <td>rejected</td>\n",
       "      <td>6.596133</td>\n",
       "      <td>3.281784</td>\n",
       "      <td>NaN</td>\n",
       "      <td>NaN</td>\n",
       "    </tr>\n",
       "    <tr>\n",
       "      <th>3</th>\n",
       "      <td>4</td>\n",
       "      <td>392001</td>\n",
       "      <td>243539</td>\n",
       "      <td>rejected</td>\n",
       "      <td>6.596142</td>\n",
       "      <td>3.280526</td>\n",
       "      <td>NaN</td>\n",
       "      <td>NaN</td>\n",
       "    </tr>\n",
       "    <tr>\n",
       "      <th>4</th>\n",
       "      <td>5</td>\n",
       "      <td>392001</td>\n",
       "      <td>171653</td>\n",
       "      <td>rejected</td>\n",
       "      <td>6.609232</td>\n",
       "      <td>3.288800</td>\n",
       "      <td>NaN</td>\n",
       "      <td>NaN</td>\n",
       "    </tr>\n",
       "  </tbody>\n",
       "</table>\n",
       "</div>"
      ],
      "text/plain": [
       "   id  order_id  driver_id driver_action       lat       lng  created_at  \\\n",
       "0   1    392001     243828      accepted  6.602207  3.270465         NaN   \n",
       "1   2    392001     243588      rejected  6.592097  3.287445         NaN   \n",
       "2   3    392001     243830      rejected  6.596133  3.281784         NaN   \n",
       "3   4    392001     243539      rejected  6.596142  3.280526         NaN   \n",
       "4   5    392001     171653      rejected  6.609232  3.288800         NaN   \n",
       "\n",
       "   updated_at  \n",
       "0         NaN  \n",
       "1         NaN  \n",
       "2         NaN  \n",
       "3         NaN  \n",
       "4         NaN  "
      ]
     },
     "execution_count": 134,
     "metadata": {},
     "output_type": "execute_result"
    }
   ],
   "source": [
    "Data_location=pd.read_csv('D:/Tenx Batch 6/Week 9/driver_locations_during_request.csv')\n",
    "Data_location.head()"
   ]
  },
  {
   "cell_type": "markdown",
   "id": "c6ef2915",
   "metadata": {},
   "source": [
    "# Trip Dataset Detail Informations "
   ]
  },
  {
   "cell_type": "code",
   "execution_count": 135,
   "id": "d43ff4f9",
   "metadata": {},
   "outputs": [
    {
     "name": "stdout",
     "output_type": "stream",
     "text": [
      "<class 'pandas.core.frame.DataFrame'>\n",
      "RangeIndex: 536020 entries, 0 to 536019\n",
      "Data columns (total 5 columns):\n",
      " #   Column            Non-Null Count   Dtype \n",
      "---  ------            --------------   ----- \n",
      " 0   Trip ID           536020 non-null  int64 \n",
      " 1   Trip Origin       536020 non-null  object\n",
      " 2   Trip Destination  536020 non-null  object\n",
      " 3   Trip Start Time   534369 non-null  object\n",
      " 4   Trip End Time     536019 non-null  object\n",
      "dtypes: int64(1), object(4)\n",
      "memory usage: 20.4+ MB\n"
     ]
    },
    {
     "data": {
      "text/plain": [
       "(536020, 5)"
      ]
     },
     "execution_count": 135,
     "metadata": {},
     "output_type": "execute_result"
    }
   ],
   "source": [
    "Data.info()\n",
    "Data.shape"
   ]
  },
  {
   "cell_type": "code",
   "execution_count": 136,
   "id": "05e53bf0",
   "metadata": {},
   "outputs": [
    {
     "data": {
      "text/plain": [
       "['Trip ID',\n",
       " 'Trip Origin',\n",
       " 'Trip Destination',\n",
       " 'Trip Start Time',\n",
       " 'Trip End Time']"
      ]
     },
     "execution_count": 136,
     "metadata": {},
     "output_type": "execute_result"
    }
   ],
   "source": [
    "Data.columns.tolist()"
   ]
  },
  {
   "cell_type": "markdown",
   "id": "538bd58e",
   "metadata": {},
   "source": [
    "##  Sort Missing Vlaues ascendingly"
   ]
  },
  {
   "cell_type": "code",
   "execution_count": 137,
   "id": "da3f4e6f",
   "metadata": {
    "scrolled": true
   },
   "outputs": [
    {
     "data": {
      "text/plain": [
       "Trip Start Time     1651\n",
       "Trip End Time          1\n",
       "Trip ID                0\n",
       "Trip Origin            0\n",
       "Trip Destination       0\n",
       "dtype: int64"
      ]
     },
     "execution_count": 137,
     "metadata": {},
     "output_type": "execute_result"
    }
   ],
   "source": [
    "Data.isnull().sum().sort_values(ascending=False)"
   ]
  },
  {
   "cell_type": "markdown",
   "id": "cc4cf208",
   "metadata": {},
   "source": [
    "## Missing Value Graphical Analysis"
   ]
  },
  {
   "cell_type": "code",
   "execution_count": 138,
   "id": "27de9891",
   "metadata": {
    "scrolled": true
   },
   "outputs": [
    {
     "data": {
      "image/png": "[encoded data removed]",
      "text/plain": [
       "<Figure size 1080x504 with 2 Axes>"
      ]
     },
     "metadata": {},
     "output_type": "display_data"
    }
   ],
   "source": [
    "#Identifying and visualizing null values throughout the data\n",
    "sns.heatmap(Data.isnull())\n",
    "sns.set(rc={'figure.figsize':(15,7)})# width and height respectivly\n",
    "plt.xticks(rotation=90)\n",
    "plt.title('Null value analysis accross all data',size=20)\n",
    "plt.show()"
   ]
  },
  {
   "cell_type": "code",
   "execution_count": 139,
   "id": "dcd91b82",
   "metadata": {},
   "outputs": [
    {
     "data": {
      "text/html": [
       "<div>\n",
       "<style scoped>\n",
       "    .dataframe tbody tr th:only-of-type {\n",
       "        vertical-align: middle;\n",
       "    }\n",
       "\n",
       "    .dataframe tbody tr th {\n",
       "        vertical-align: top;\n",
       "    }\n",
       "\n",
       "    .dataframe thead th {\n",
       "        text-align: right;\n",
       "    }\n",
       "</style>\n",
       "<table border=\"1\" class=\"dataframe\">\n",
       "  <thead>\n",
       "    <tr style=\"text-align: right;\">\n",
       "      <th></th>\n",
       "      <th>Trip ID</th>\n",
       "      <th>Trip Origin</th>\n",
       "      <th>Trip Destination</th>\n",
       "      <th>Trip Start Time</th>\n",
       "      <th>Trip End Time</th>\n",
       "    </tr>\n",
       "  </thead>\n",
       "  <tbody>\n",
       "    <tr>\n",
       "      <th>665</th>\n",
       "      <td>393193</td>\n",
       "      <td>6.545651599999999,3.3776289</td>\n",
       "      <td>6.497595,3.383098</td>\n",
       "      <td>NaN</td>\n",
       "      <td>2021-07-01 12:45:12</td>\n",
       "    </tr>\n",
       "    <tr>\n",
       "      <th>1368</th>\n",
       "      <td>394447</td>\n",
       "      <td>6.4371758130759,3.5097476821616</td>\n",
       "      <td>6.4430658,3.5380258</td>\n",
       "      <td>NaN</td>\n",
       "      <td>2021-07-01 13:05:02</td>\n",
       "    </tr>\n",
       "    <tr>\n",
       "      <th>1551</th>\n",
       "      <td>394819</td>\n",
       "      <td>6.432360999999999,3.4211614</td>\n",
       "      <td>6.427381234249496,3.483499092984462</td>\n",
       "      <td>NaN</td>\n",
       "      <td>2021-07-01 14:57:13</td>\n",
       "    </tr>\n",
       "    <tr>\n",
       "      <th>1908</th>\n",
       "      <td>395492</td>\n",
       "      <td>6.594949000000001,3.3399855</td>\n",
       "      <td>6.6424974,3.501294</td>\n",
       "      <td>NaN</td>\n",
       "      <td>2021-07-01 21:54:10</td>\n",
       "    </tr>\n",
       "    <tr>\n",
       "      <th>1943</th>\n",
       "      <td>395549</td>\n",
       "      <td>6.432360999999999,3.4211614</td>\n",
       "      <td>6.435587578976596,3.4789828421229885</td>\n",
       "      <td>NaN</td>\n",
       "      <td>2021-07-01 15:20:33</td>\n",
       "    </tr>\n",
       "  </tbody>\n",
       "</table>\n",
       "</div>"
      ],
      "text/plain": [
       "      Trip ID                      Trip Origin  \\\n",
       "665    393193      6.545651599999999,3.3776289   \n",
       "1368   394447  6.4371758130759,3.5097476821616   \n",
       "1551   394819      6.432360999999999,3.4211614   \n",
       "1908   395492      6.594949000000001,3.3399855   \n",
       "1943   395549      6.432360999999999,3.4211614   \n",
       "\n",
       "                          Trip Destination Trip Start Time  \\\n",
       "665                      6.497595,3.383098             NaN   \n",
       "1368                   6.4430658,3.5380258             NaN   \n",
       "1551   6.427381234249496,3.483499092984462             NaN   \n",
       "1908                    6.6424974,3.501294             NaN   \n",
       "1943  6.435587578976596,3.4789828421229885             NaN   \n",
       "\n",
       "            Trip End Time  \n",
       "665   2021-07-01 12:45:12  \n",
       "1368  2021-07-01 13:05:02  \n",
       "1551  2021-07-01 14:57:13  \n",
       "1908  2021-07-01 21:54:10  \n",
       "1943  2021-07-01 15:20:33  "
      ]
     },
     "execution_count": 139,
     "metadata": {},
     "output_type": "execute_result"
    }
   ],
   "source": [
    "# check out rows with missing columns\n",
    "Data[Data.isnull().any(axis=1)].head()"
   ]
  },
  {
   "cell_type": "code",
   "execution_count": 140,
   "id": "20189144",
   "metadata": {},
   "outputs": [
    {
     "data": {
      "text/html": [
       "<div>\n",
       "<style scoped>\n",
       "    .dataframe tbody tr th:only-of-type {\n",
       "        vertical-align: middle;\n",
       "    }\n",
       "\n",
       "    .dataframe tbody tr th {\n",
       "        vertical-align: top;\n",
       "    }\n",
       "\n",
       "    .dataframe thead th {\n",
       "        text-align: right;\n",
       "    }\n",
       "</style>\n",
       "<table border=\"1\" class=\"dataframe\">\n",
       "  <thead>\n",
       "    <tr style=\"text-align: right;\">\n",
       "      <th></th>\n",
       "      <th>Trip ID</th>\n",
       "      <th>Trip Origin</th>\n",
       "      <th>Trip Destination</th>\n",
       "      <th>Trip Start Time</th>\n",
       "      <th>Trip End Time</th>\n",
       "      <th>trip_origin_lat</th>\n",
       "      <th>trip_origin_long</th>\n",
       "      <th>trip_dest_lat</th>\n",
       "      <th>trip_dest_long</th>\n",
       "    </tr>\n",
       "  </thead>\n",
       "  <tbody>\n",
       "    <tr>\n",
       "      <th>0</th>\n",
       "      <td>391996</td>\n",
       "      <td>6.508813001668548,3.37740316890347</td>\n",
       "      <td>6.650969799999999,3.3450307</td>\n",
       "      <td>2021-07-01 07:28:04</td>\n",
       "      <td>2021-07-01 07:29:37</td>\n",
       "      <td>6.508813</td>\n",
       "      <td>3.377403</td>\n",
       "      <td>6.650970</td>\n",
       "      <td>3.345031</td>\n",
       "    </tr>\n",
       "    <tr>\n",
       "      <th>1</th>\n",
       "      <td>391997</td>\n",
       "      <td>6.4316714,3.4555375</td>\n",
       "      <td>6.4280814653326,3.4721885847586</td>\n",
       "      <td>2021-07-01 06:38:04</td>\n",
       "      <td>2021-07-01 07:07:28</td>\n",
       "      <td>6.431671</td>\n",
       "      <td>3.455538</td>\n",
       "      <td>6.428081</td>\n",
       "      <td>3.472189</td>\n",
       "    </tr>\n",
       "    <tr>\n",
       "      <th>2</th>\n",
       "      <td>391998</td>\n",
       "      <td>6.631679399999999,3.3388976</td>\n",
       "      <td>6.508324099999999,3.3590397</td>\n",
       "      <td>2021-07-01 06:21:02</td>\n",
       "      <td>2021-07-01 07:02:23</td>\n",
       "      <td>6.631679</td>\n",
       "      <td>3.338898</td>\n",
       "      <td>6.508324</td>\n",
       "      <td>3.359040</td>\n",
       "    </tr>\n",
       "    <tr>\n",
       "      <th>3</th>\n",
       "      <td>391999</td>\n",
       "      <td>6.572757200000001,3.3677082</td>\n",
       "      <td>6.584881099999999,3.3614073</td>\n",
       "      <td>2021-07-01 07:16:07</td>\n",
       "      <td>2021-07-01 07:29:42</td>\n",
       "      <td>6.572757</td>\n",
       "      <td>3.367708</td>\n",
       "      <td>6.584881</td>\n",
       "      <td>3.361407</td>\n",
       "    </tr>\n",
       "    <tr>\n",
       "      <th>4</th>\n",
       "      <td>392001</td>\n",
       "      <td>6.6010417,3.2766339</td>\n",
       "      <td>6.4501069,3.3916154</td>\n",
       "      <td>2021-07-01 09:30:59</td>\n",
       "      <td>2021-07-01 09:34:36</td>\n",
       "      <td>6.601042</td>\n",
       "      <td>3.276634</td>\n",
       "      <td>6.450107</td>\n",
       "      <td>3.391615</td>\n",
       "    </tr>\n",
       "  </tbody>\n",
       "</table>\n",
       "</div>"
      ],
      "text/plain": [
       "   Trip ID                         Trip Origin  \\\n",
       "0   391996  6.508813001668548,3.37740316890347   \n",
       "1   391997                 6.4316714,3.4555375   \n",
       "2   391998         6.631679399999999,3.3388976   \n",
       "3   391999         6.572757200000001,3.3677082   \n",
       "4   392001                 6.6010417,3.2766339   \n",
       "\n",
       "                  Trip Destination      Trip Start Time        Trip End Time  \\\n",
       "0      6.650969799999999,3.3450307  2021-07-01 07:28:04  2021-07-01 07:29:37   \n",
       "1  6.4280814653326,3.4721885847586  2021-07-01 06:38:04  2021-07-01 07:07:28   \n",
       "2      6.508324099999999,3.3590397  2021-07-01 06:21:02  2021-07-01 07:02:23   \n",
       "3      6.584881099999999,3.3614073  2021-07-01 07:16:07  2021-07-01 07:29:42   \n",
       "4              6.4501069,3.3916154  2021-07-01 09:30:59  2021-07-01 09:34:36   \n",
       "\n",
       "   trip_origin_lat  trip_origin_long  trip_dest_lat  trip_dest_long  \n",
       "0         6.508813          3.377403       6.650970        3.345031  \n",
       "1         6.431671          3.455538       6.428081        3.472189  \n",
       "2         6.631679          3.338898       6.508324        3.359040  \n",
       "3         6.572757          3.367708       6.584881        3.361407  \n",
       "4         6.601042          3.276634       6.450107        3.391615  "
      ]
     },
     "execution_count": 140,
     "metadata": {},
     "output_type": "execute_result"
    }
   ],
   "source": [
    "def create_column(dframe, new_list, old_column):\n",
    "  dframe[new_list] = dframe[old_column].str.split(',', 1, expand=True).astype(float)\n",
    "# create new columns\n",
    "create_column(Data, ['trip_origin_lat', 'trip_origin_long'], 'Trip Origin')\n",
    "create_column(Data, ['trip_dest_lat', 'trip_dest_long'], 'Trip Destination')\n",
    "\n",
    "Data.head()"
   ]
  },
  {
   "cell_type": "code",
   "execution_count": 141,
   "id": "88226fc8",
   "metadata": {},
   "outputs": [
    {
     "data": {
      "text/plain": [
       "Trip ID                      int64\n",
       "Trip Origin                 object\n",
       "Trip Destination            object\n",
       "Trip Start Time     datetime64[ns]\n",
       "Trip End Time       datetime64[ns]\n",
       "trip_origin_lat            float64\n",
       "trip_origin_long           float64\n",
       "trip_dest_lat              float64\n",
       "trip_dest_long             float64\n",
       "dtype: object"
      ]
     },
     "execution_count": 141,
     "metadata": {},
     "output_type": "execute_result"
    }
   ],
   "source": [
    "#convert to datetime\n",
    "Data['Trip Start Time'] = pd.to_datetime(df['Trip Start Time'])\n",
    "Data['Trip End Time'] = pd.to_datetime(df['Trip End Time'])\n",
    "Data.dtypes"
   ]
  },
  {
   "cell_type": "markdown",
   "id": "6d3f8c2e",
   "metadata": {},
   "source": [
    "# Driver location Dataset Details"
   ]
  },
  {
   "cell_type": "code",
   "execution_count": 142,
   "id": "a0fb37f0",
   "metadata": {},
   "outputs": [
    {
     "name": "stdout",
     "output_type": "stream",
     "text": [
      "<class 'pandas.core.frame.DataFrame'>\n",
      "RangeIndex: 1557740 entries, 0 to 1557739\n",
      "Data columns (total 8 columns):\n",
      " #   Column         Non-Null Count    Dtype  \n",
      "---  ------         --------------    -----  \n",
      " 0   id             1557740 non-null  int64  \n",
      " 1   order_id       1557740 non-null  int64  \n",
      " 2   driver_id      1557740 non-null  int64  \n",
      " 3   driver_action  1557740 non-null  object \n",
      " 4   lat            1557740 non-null  float64\n",
      " 5   lng            1557740 non-null  float64\n",
      " 6   created_at     0 non-null        float64\n",
      " 7   updated_at     0 non-null        float64\n",
      "dtypes: float64(4), int64(3), object(1)\n",
      "memory usage: 95.1+ MB\n"
     ]
    },
    {
     "data": {
      "text/plain": [
       "(1557740, 8)"
      ]
     },
     "execution_count": 142,
     "metadata": {},
     "output_type": "execute_result"
    }
   ],
   "source": [
    "Data_location.info()\n",
    "Data_location.shape"
   ]
  },
  {
   "cell_type": "markdown",
   "id": "e8b62094",
   "metadata": {},
   "source": [
    "# Merging trip and drivers data togther with order_Id and trip Id"
   ]
  },
  {
   "cell_type": "code",
   "execution_count": 143,
   "id": "9f87f1d9",
   "metadata": {
    "scrolled": true
   },
   "outputs": [
    {
     "data": {
      "text/html": [
       "<div>\n",
       "<style scoped>\n",
       "    .dataframe tbody tr th:only-of-type {\n",
       "        vertical-align: middle;\n",
       "    }\n",
       "\n",
       "    .dataframe tbody tr th {\n",
       "        vertical-align: top;\n",
       "    }\n",
       "\n",
       "    .dataframe thead th {\n",
       "        text-align: right;\n",
       "    }\n",
       "</style>\n",
       "<table border=\"1\" class=\"dataframe\">\n",
       "  <thead>\n",
       "    <tr style=\"text-align: right;\">\n",
       "      <th></th>\n",
       "      <th>Trip ID</th>\n",
       "      <th>Trip Origin</th>\n",
       "      <th>Trip Destination</th>\n",
       "      <th>Trip Start Time</th>\n",
       "      <th>Trip End Time</th>\n",
       "      <th>trip_origin_lat</th>\n",
       "      <th>trip_origin_long</th>\n",
       "      <th>trip_dest_lat</th>\n",
       "      <th>trip_dest_long</th>\n",
       "      <th>id</th>\n",
       "      <th>order_id</th>\n",
       "      <th>driver_id</th>\n",
       "      <th>driver_action</th>\n",
       "      <th>lat</th>\n",
       "      <th>lng</th>\n",
       "      <th>created_at</th>\n",
       "      <th>updated_at</th>\n",
       "    </tr>\n",
       "  </thead>\n",
       "  <tbody>\n",
       "    <tr>\n",
       "      <th>0</th>\n",
       "      <td>392001</td>\n",
       "      <td>6.6010417,3.2766339</td>\n",
       "      <td>6.4501069,3.3916154</td>\n",
       "      <td>2021-07-01 09:30:59</td>\n",
       "      <td>2021-07-01 09:34:36</td>\n",
       "      <td>6.601042</td>\n",
       "      <td>3.276634</td>\n",
       "      <td>6.450107</td>\n",
       "      <td>3.391615</td>\n",
       "      <td>1</td>\n",
       "      <td>392001</td>\n",
       "      <td>243828</td>\n",
       "      <td>accepted</td>\n",
       "      <td>6.602207</td>\n",
       "      <td>3.270465</td>\n",
       "      <td>NaN</td>\n",
       "      <td>NaN</td>\n",
       "    </tr>\n",
       "    <tr>\n",
       "      <th>1</th>\n",
       "      <td>392001</td>\n",
       "      <td>6.6010417,3.2766339</td>\n",
       "      <td>6.4501069,3.3916154</td>\n",
       "      <td>2021-07-01 09:30:59</td>\n",
       "      <td>2021-07-01 09:34:36</td>\n",
       "      <td>6.601042</td>\n",
       "      <td>3.276634</td>\n",
       "      <td>6.450107</td>\n",
       "      <td>3.391615</td>\n",
       "      <td>2</td>\n",
       "      <td>392001</td>\n",
       "      <td>243588</td>\n",
       "      <td>rejected</td>\n",
       "      <td>6.592097</td>\n",
       "      <td>3.287445</td>\n",
       "      <td>NaN</td>\n",
       "      <td>NaN</td>\n",
       "    </tr>\n",
       "    <tr>\n",
       "      <th>2</th>\n",
       "      <td>392001</td>\n",
       "      <td>6.6010417,3.2766339</td>\n",
       "      <td>6.4501069,3.3916154</td>\n",
       "      <td>2021-07-01 09:30:59</td>\n",
       "      <td>2021-07-01 09:34:36</td>\n",
       "      <td>6.601042</td>\n",
       "      <td>3.276634</td>\n",
       "      <td>6.450107</td>\n",
       "      <td>3.391615</td>\n",
       "      <td>3</td>\n",
       "      <td>392001</td>\n",
       "      <td>243830</td>\n",
       "      <td>rejected</td>\n",
       "      <td>6.596133</td>\n",
       "      <td>3.281784</td>\n",
       "      <td>NaN</td>\n",
       "      <td>NaN</td>\n",
       "    </tr>\n",
       "    <tr>\n",
       "      <th>3</th>\n",
       "      <td>392001</td>\n",
       "      <td>6.6010417,3.2766339</td>\n",
       "      <td>6.4501069,3.3916154</td>\n",
       "      <td>2021-07-01 09:30:59</td>\n",
       "      <td>2021-07-01 09:34:36</td>\n",
       "      <td>6.601042</td>\n",
       "      <td>3.276634</td>\n",
       "      <td>6.450107</td>\n",
       "      <td>3.391615</td>\n",
       "      <td>4</td>\n",
       "      <td>392001</td>\n",
       "      <td>243539</td>\n",
       "      <td>rejected</td>\n",
       "      <td>6.596142</td>\n",
       "      <td>3.280526</td>\n",
       "      <td>NaN</td>\n",
       "      <td>NaN</td>\n",
       "    </tr>\n",
       "    <tr>\n",
       "      <th>4</th>\n",
       "      <td>392001</td>\n",
       "      <td>6.6010417,3.2766339</td>\n",
       "      <td>6.4501069,3.3916154</td>\n",
       "      <td>2021-07-01 09:30:59</td>\n",
       "      <td>2021-07-01 09:34:36</td>\n",
       "      <td>6.601042</td>\n",
       "      <td>3.276634</td>\n",
       "      <td>6.450107</td>\n",
       "      <td>3.391615</td>\n",
       "      <td>5</td>\n",
       "      <td>392001</td>\n",
       "      <td>171653</td>\n",
       "      <td>rejected</td>\n",
       "      <td>6.609232</td>\n",
       "      <td>3.288800</td>\n",
       "      <td>NaN</td>\n",
       "      <td>NaN</td>\n",
       "    </tr>\n",
       "  </tbody>\n",
       "</table>\n",
       "</div>"
      ],
      "text/plain": [
       "   Trip ID          Trip Origin     Trip Destination     Trip Start Time  \\\n",
       "0   392001  6.6010417,3.2766339  6.4501069,3.3916154 2021-07-01 09:30:59   \n",
       "1   392001  6.6010417,3.2766339  6.4501069,3.3916154 2021-07-01 09:30:59   \n",
       "2   392001  6.6010417,3.2766339  6.4501069,3.3916154 2021-07-01 09:30:59   \n",
       "3   392001  6.6010417,3.2766339  6.4501069,3.3916154 2021-07-01 09:30:59   \n",
       "4   392001  6.6010417,3.2766339  6.4501069,3.3916154 2021-07-01 09:30:59   \n",
       "\n",
       "        Trip End Time  trip_origin_lat  trip_origin_long  trip_dest_lat  \\\n",
       "0 2021-07-01 09:34:36         6.601042          3.276634       6.450107   \n",
       "1 2021-07-01 09:34:36         6.601042          3.276634       6.450107   \n",
       "2 2021-07-01 09:34:36         6.601042          3.276634       6.450107   \n",
       "3 2021-07-01 09:34:36         6.601042          3.276634       6.450107   \n",
       "4 2021-07-01 09:34:36         6.601042          3.276634       6.450107   \n",
       "\n",
       "   trip_dest_long  id  order_id  driver_id driver_action       lat       lng  \\\n",
       "0        3.391615   1    392001     243828      accepted  6.602207  3.270465   \n",
       "1        3.391615   2    392001     243588      rejected  6.592097  3.287445   \n",
       "2        3.391615   3    392001     243830      rejected  6.596133  3.281784   \n",
       "3        3.391615   4    392001     243539      rejected  6.596142  3.280526   \n",
       "4        3.391615   5    392001     171653      rejected  6.609232  3.288800   \n",
       "\n",
       "   created_at  updated_at  \n",
       "0         NaN         NaN  \n",
       "1         NaN         NaN  \n",
       "2         NaN         NaN  \n",
       "3         NaN         NaN  \n",
       "4         NaN         NaN  "
      ]
     },
     "execution_count": 143,
     "metadata": {},
     "output_type": "execute_result"
    }
   ],
   "source": [
    "Overall_data = Data.merge(Data_location, how='inner', right_on='order_id', left_on=\"Trip ID\")\n",
    "Overall_data.head()"
   ]
  },
  {
   "cell_type": "markdown",
   "id": "11f43937",
   "metadata": {},
   "source": [
    "Overall_data.info()\n",
    "Overall_data.shape"
   ]
  },
  {
   "cell_type": "markdown",
   "id": "57af0621",
   "metadata": {},
   "source": [
    "## Calculating Trip Duration from Trip start Time and Trip End Time"
   ]
  },
  {
   "cell_type": "markdown",
   "id": "b79aa8c7",
   "metadata": {},
   "source": [
    "Overall_data['Duration_Minutes'] = Overall_data['Trip End Time'] - Overall_data['Trip Start Time']\n",
    "minutes=[]\n",
    "for j in Overall_data['Duration_Minutes']:\n",
    "    minutes.append(j.seconds / 60)\n",
    "Overall_data['Duration_Minutes'] = minutes"
   ]
  },
  {
   "cell_type": "markdown",
   "id": "8a57f31f",
   "metadata": {},
   "source": [
    "# Extracting Year,Month and day"
   ]
  },
  {
   "cell_type": "code",
   "execution_count": null,
   "id": "abd73d9d",
   "metadata": {},
   "outputs": [],
   "source": [
    "# extract year, month and day of week\n",
    "Overall_data['year'] = pd.DatetimeIndex(Overall_data['Trip Start Time']).year\n",
    "Overall_data['month'] = pd.DatetimeIndex(Overall_data['Trip Start Time']).month\n",
    "Overall_data['day_of_week'] = Overall_data['Trip Start Time'].dt.day_name()\n",
    "Overall_data.head()"
   ]
  },
  {
   "cell_type": "markdown",
   "id": "749db705",
   "metadata": {},
   "source": [
    "# Getting Number of Drivers based on Driver ID"
   ]
  },
  {
   "cell_type": "code",
   "execution_count": 150,
   "id": "246153b2",
   "metadata": {},
   "outputs": [
    {
     "data": {
      "text/plain": [
       "1213"
      ]
     },
     "execution_count": 150,
     "metadata": {},
     "output_type": "execute_result"
    }
   ],
   "source": [
    "Overall_data['driver_id'].nunique()"
   ]
  },
  {
   "cell_type": "markdown",
   "id": "8f4b5274",
   "metadata": {},
   "source": [
    "# Ploting day of week and order"
   ]
  },
  {
   "cell_type": "code",
   "execution_count": 153,
   "id": "559c597b",
   "metadata": {},
   "outputs": [
    {
     "data": {
      "text/plain": [
       "Text(0.5, 1.0, 'Number of trips per day')"
      ]
     },
     "execution_count": 153,
     "metadata": {},
     "output_type": "execute_result"
    },
    {
     "data": {
      "image/png": "[encoded data removed]",
      "text/plain": [
       "<Figure size 720x360 with 1 Axes>"
      ]
     },
     "metadata": {},
     "output_type": "display_data"
    }
   ],
   "source": [
    "x = Overall_data['day_of_week'].value_counts()\n",
    "x.plot(kind='bar',figsize=(10,5))\n",
    "plt.xlabel('Day')\n",
    "plt.ylabel('Frequency')\n",
    "plt.xticks(rotation=75)\n",
    "plt.style.use('fivethirtyeight')\n",
    "plt.title('Number of trips per day')"
   ]
  },
  {
   "cell_type": "markdown",
   "id": "dcf10d26",
   "metadata": {},
   "source": [
    "# Number of trips in each hour"
   ]
  },
  {
   "cell_type": "code",
   "execution_count": 156,
   "id": "5383650e",
   "metadata": {},
   "outputs": [
    {
     "data": {
      "text/plain": [
       "Text(0.5, 1.0, 'Number of trips per hour')"
      ]
     },
     "execution_count": 156,
     "metadata": {},
     "output_type": "execute_result"
    },
    {
     "data": {
      "image/png": "[encoded data removed]",
      "text/plain": [
       "<Figure size 720x360 with 1 Axes>"
      ]
     },
     "metadata": {},
     "output_type": "display_data"
    }
   ],
   "source": [
    "hours = Overall_data['Trip Start Time'].dt.hour.value_counts()\n",
    "hours.plot(kind='bar',figsize=(10,5))\n",
    "plt.xlabel('Hours')\n",
    "plt.ylabel('Frequency')\n",
    "plt.xticks(rotation=75)\n",
    "plt.style.use('fivethirtyeight')\n",
    "plt.title('Number of trips per hour')"
   ]
  },
  {
   "cell_type": "code",
   "execution_count": null,
   "id": "234e6a8e",
   "metadata": {},
   "outputs": [],
   "source": []
  }
 ],
 "metadata": {
  "kernelspec": {
   "display_name": "Python 3 (ipykernel)",
   "language": "python",
   "name": "python3"
  },
  "language_info": {
   "codemirror_mode": {
    "name": "ipython",
    "version": 3
   },
   "file_extension": ".py",
   "mimetype": "text/x-python",
   "name": "python",
   "nbconvert_exporter": "python",
   "pygments_lexer": "ipython3",
   "version": "3.9.7"
  }
 },
 "nbformat": 4,
 "nbformat_minor": 5
}
